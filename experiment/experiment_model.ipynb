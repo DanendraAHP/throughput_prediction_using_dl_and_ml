{
 "cells": [
  {
   "cell_type": "code",
   "execution_count": 1,
   "id": "2a4fef24-ad46-4af8-9146-99cbe2518c31",
   "metadata": {},
   "outputs": [],
   "source": [
    "import pandas as pd\n",
    "import numpy as np\n",
    "from sklearn.ensemble import RandomForestRegressor\n",
    "from sklearn.metrics import mean_squared_error\n",
    "from sklearn.svm import SVR\n",
    "import matplotlib.pyplot as plt\n",
    "from pandas.api.types import is_numeric_dtype\n",
    "from sklearn.metrics import mean_absolute_error"
   ]
  },
  {
   "cell_type": "code",
   "execution_count": 4,
   "id": "0d7d3151-0c03-4555-a172-e4fb1f71def4",
   "metadata": {},
   "outputs": [
    {
     "data": {
      "text/html": [
       "<div>\n",
       "<style scoped>\n",
       "    .dataframe tbody tr th:only-of-type {\n",
       "        vertical-align: middle;\n",
       "    }\n",
       "\n",
       "    .dataframe tbody tr th {\n",
       "        vertical-align: top;\n",
       "    }\n",
       "\n",
       "    .dataframe thead th {\n",
       "        text-align: right;\n",
       "    }\n",
       "</style>\n",
       "<table border=\"1\" class=\"dataframe\">\n",
       "  <thead>\n",
       "    <tr style=\"text-align: right;\">\n",
       "      <th></th>\n",
       "      <th>ds</th>\n",
       "      <th>eNodeB Name</th>\n",
       "      <th>Integrity</th>\n",
       "      <th>RRC Setup Success Ratio_LTE(%)</th>\n",
       "      <th>RRC Setup Success Ratio_NOM_LTE(number)</th>\n",
       "      <th>RRC Setup Success Ratio_DENOM_LTE(number)</th>\n",
       "      <th>E-RAB Setup Success Ratio_LTE(%)</th>\n",
       "      <th>E-RAB Setup Success Ratio_NOM_LTE(number)</th>\n",
       "      <th>E-RAB Setup Success Ratio (Denom)</th>\n",
       "      <th>E-RAB Drop Ratio_LTE(%)</th>\n",
       "      <th>...</th>\n",
       "      <th>MS_Average PDCP Layer Active Cell Throughput UL_DENOM(number)</th>\n",
       "      <th>MS_Duration of Cell Unavailability(s)</th>\n",
       "      <th>MS_UL Packet Loss Rate(%)</th>\n",
       "      <th>MS_UL Packet Loss Rate_NOM(number)</th>\n",
       "      <th>MS_UL Packet Loss Rate_DENOM(number)</th>\n",
       "      <th>MS_RBLER-DL_NOM(number)</th>\n",
       "      <th>MS_RBLER-DL_DENOM(number)</th>\n",
       "      <th>MS_Inter-RAT HO Success Ratio(%)</th>\n",
       "      <th>MS_Inter-RAT HO Success Ratio_DENOM(number)</th>\n",
       "      <th>MS_Inter-RAT HO Success Ratio_NOM(number)</th>\n",
       "    </tr>\n",
       "  </thead>\n",
       "  <tbody>\n",
       "    <tr>\n",
       "      <th>0</th>\n",
       "      <td>2017-04-03 00:00:00</td>\n",
       "      <td>100049_jembatan_senen_singajaya_mbts</td>\n",
       "      <td>100%</td>\n",
       "      <td>99.933</td>\n",
       "      <td>1491.0</td>\n",
       "      <td>1492.0</td>\n",
       "      <td>100.0</td>\n",
       "      <td>1650.0</td>\n",
       "      <td>1650.0</td>\n",
       "      <td>0.0606</td>\n",
       "      <td>...</td>\n",
       "      <td>347486.0</td>\n",
       "      <td>0.0</td>\n",
       "      <td>0.0</td>\n",
       "      <td>3.0</td>\n",
       "      <td>449159.0</td>\n",
       "      <td>168.0</td>\n",
       "      <td>570275.0</td>\n",
       "      <td>100.0</td>\n",
       "      <td>0.0</td>\n",
       "      <td>0.0</td>\n",
       "    </tr>\n",
       "    <tr>\n",
       "      <th>1</th>\n",
       "      <td>2017-04-03 01:00:00</td>\n",
       "      <td>100049_jembatan_senen_singajaya_mbts</td>\n",
       "      <td>100%</td>\n",
       "      <td>100.000</td>\n",
       "      <td>1557.0</td>\n",
       "      <td>1557.0</td>\n",
       "      <td>100.0</td>\n",
       "      <td>1720.0</td>\n",
       "      <td>1720.0</td>\n",
       "      <td>0.0000</td>\n",
       "      <td>...</td>\n",
       "      <td>159008.0</td>\n",
       "      <td>0.0</td>\n",
       "      <td>0.0</td>\n",
       "      <td>3.0</td>\n",
       "      <td>149694.0</td>\n",
       "      <td>192.0</td>\n",
       "      <td>279770.0</td>\n",
       "      <td>100.0</td>\n",
       "      <td>0.0</td>\n",
       "      <td>0.0</td>\n",
       "    </tr>\n",
       "    <tr>\n",
       "      <th>2</th>\n",
       "      <td>2017-04-03 02:00:00</td>\n",
       "      <td>100049_jembatan_senen_singajaya_mbts</td>\n",
       "      <td>100%</td>\n",
       "      <td>100.000</td>\n",
       "      <td>1437.0</td>\n",
       "      <td>1437.0</td>\n",
       "      <td>100.0</td>\n",
       "      <td>1546.0</td>\n",
       "      <td>1546.0</td>\n",
       "      <td>0.0000</td>\n",
       "      <td>...</td>\n",
       "      <td>217752.0</td>\n",
       "      <td>0.0</td>\n",
       "      <td>0.0</td>\n",
       "      <td>9.0</td>\n",
       "      <td>391976.0</td>\n",
       "      <td>427.0</td>\n",
       "      <td>605560.0</td>\n",
       "      <td>100.0</td>\n",
       "      <td>0.0</td>\n",
       "      <td>0.0</td>\n",
       "    </tr>\n",
       "    <tr>\n",
       "      <th>3</th>\n",
       "      <td>2017-04-03 03:00:00</td>\n",
       "      <td>100049_jembatan_senen_singajaya_mbts</td>\n",
       "      <td>100%</td>\n",
       "      <td>100.000</td>\n",
       "      <td>1291.0</td>\n",
       "      <td>1291.0</td>\n",
       "      <td>100.0</td>\n",
       "      <td>1385.0</td>\n",
       "      <td>1385.0</td>\n",
       "      <td>0.0000</td>\n",
       "      <td>...</td>\n",
       "      <td>200762.0</td>\n",
       "      <td>0.0</td>\n",
       "      <td>0.0</td>\n",
       "      <td>0.0</td>\n",
       "      <td>333783.0</td>\n",
       "      <td>721.0</td>\n",
       "      <td>545415.0</td>\n",
       "      <td>100.0</td>\n",
       "      <td>0.0</td>\n",
       "      <td>0.0</td>\n",
       "    </tr>\n",
       "    <tr>\n",
       "      <th>4</th>\n",
       "      <td>2017-04-03 04:00:00</td>\n",
       "      <td>100049_jembatan_senen_singajaya_mbts</td>\n",
       "      <td>100%</td>\n",
       "      <td>100.000</td>\n",
       "      <td>1629.0</td>\n",
       "      <td>1629.0</td>\n",
       "      <td>100.0</td>\n",
       "      <td>1743.0</td>\n",
       "      <td>1743.0</td>\n",
       "      <td>0.0571</td>\n",
       "      <td>...</td>\n",
       "      <td>66849.0</td>\n",
       "      <td>0.0</td>\n",
       "      <td>0.0</td>\n",
       "      <td>5.0</td>\n",
       "      <td>75871.0</td>\n",
       "      <td>146.0</td>\n",
       "      <td>164795.0</td>\n",
       "      <td>100.0</td>\n",
       "      <td>0.0</td>\n",
       "      <td>0.0</td>\n",
       "    </tr>\n",
       "  </tbody>\n",
       "</table>\n",
       "<p>5 rows × 101 columns</p>\n",
       "</div>"
      ],
      "text/plain": [
       "                    ds                           eNodeB Name Integrity  \\\n",
       "0  2017-04-03 00:00:00  100049_jembatan_senen_singajaya_mbts      100%   \n",
       "1  2017-04-03 01:00:00  100049_jembatan_senen_singajaya_mbts      100%   \n",
       "2  2017-04-03 02:00:00  100049_jembatan_senen_singajaya_mbts      100%   \n",
       "3  2017-04-03 03:00:00  100049_jembatan_senen_singajaya_mbts      100%   \n",
       "4  2017-04-03 04:00:00  100049_jembatan_senen_singajaya_mbts      100%   \n",
       "\n",
       "   RRC Setup Success Ratio_LTE(%)  RRC Setup Success Ratio_NOM_LTE(number)  \\\n",
       "0                          99.933                                   1491.0   \n",
       "1                         100.000                                   1557.0   \n",
       "2                         100.000                                   1437.0   \n",
       "3                         100.000                                   1291.0   \n",
       "4                         100.000                                   1629.0   \n",
       "\n",
       "   RRC Setup Success Ratio_DENOM_LTE(number)  \\\n",
       "0                                     1492.0   \n",
       "1                                     1557.0   \n",
       "2                                     1437.0   \n",
       "3                                     1291.0   \n",
       "4                                     1629.0   \n",
       "\n",
       "   E-RAB Setup Success Ratio_LTE(%)  \\\n",
       "0                             100.0   \n",
       "1                             100.0   \n",
       "2                             100.0   \n",
       "3                             100.0   \n",
       "4                             100.0   \n",
       "\n",
       "   E-RAB Setup Success Ratio_NOM_LTE(number)  \\\n",
       "0                                     1650.0   \n",
       "1                                     1720.0   \n",
       "2                                     1546.0   \n",
       "3                                     1385.0   \n",
       "4                                     1743.0   \n",
       "\n",
       "   E-RAB Setup Success Ratio (Denom)  E-RAB Drop Ratio_LTE(%)  ...  \\\n",
       "0                             1650.0                   0.0606  ...   \n",
       "1                             1720.0                   0.0000  ...   \n",
       "2                             1546.0                   0.0000  ...   \n",
       "3                             1385.0                   0.0000  ...   \n",
       "4                             1743.0                   0.0571  ...   \n",
       "\n",
       "   MS_Average PDCP Layer Active Cell Throughput UL_DENOM(number)  \\\n",
       "0                                           347486.0               \n",
       "1                                           159008.0               \n",
       "2                                           217752.0               \n",
       "3                                           200762.0               \n",
       "4                                            66849.0               \n",
       "\n",
       "   MS_Duration of Cell Unavailability(s)  MS_UL Packet Loss Rate(%)  \\\n",
       "0                                    0.0                        0.0   \n",
       "1                                    0.0                        0.0   \n",
       "2                                    0.0                        0.0   \n",
       "3                                    0.0                        0.0   \n",
       "4                                    0.0                        0.0   \n",
       "\n",
       "   MS_UL Packet Loss Rate_NOM(number)  MS_UL Packet Loss Rate_DENOM(number)  \\\n",
       "0                                 3.0                              449159.0   \n",
       "1                                 3.0                              149694.0   \n",
       "2                                 9.0                              391976.0   \n",
       "3                                 0.0                              333783.0   \n",
       "4                                 5.0                               75871.0   \n",
       "\n",
       "   MS_RBLER-DL_NOM(number)  MS_RBLER-DL_DENOM(number)  \\\n",
       "0                    168.0                   570275.0   \n",
       "1                    192.0                   279770.0   \n",
       "2                    427.0                   605560.0   \n",
       "3                    721.0                   545415.0   \n",
       "4                    146.0                   164795.0   \n",
       "\n",
       "   MS_Inter-RAT HO Success Ratio(%)  \\\n",
       "0                             100.0   \n",
       "1                             100.0   \n",
       "2                             100.0   \n",
       "3                             100.0   \n",
       "4                             100.0   \n",
       "\n",
       "  MS_Inter-RAT HO Success Ratio_DENOM(number)  \\\n",
       "0                                         0.0   \n",
       "1                                         0.0   \n",
       "2                                         0.0   \n",
       "3                                         0.0   \n",
       "4                                         0.0   \n",
       "\n",
       "   MS_Inter-RAT HO Success Ratio_NOM(number)  \n",
       "0                                        0.0  \n",
       "1                                        0.0  \n",
       "2                                        0.0  \n",
       "3                                        0.0  \n",
       "4                                        0.0  \n",
       "\n",
       "[5 rows x 101 columns]"
      ]
     },
     "execution_count": 4,
     "metadata": {},
     "output_type": "execute_result"
    }
   ],
   "source": [
    "df.head()"
   ]
  },
  {
   "cell_type": "code",
   "execution_count": 6,
   "id": "d9c523da-3d55-4805-8328-e27af9fdb2aa",
   "metadata": {},
   "outputs": [
    {
     "data": {
      "text/html": [
       "<div>\n",
       "<style scoped>\n",
       "    .dataframe tbody tr th:only-of-type {\n",
       "        vertical-align: middle;\n",
       "    }\n",
       "\n",
       "    .dataframe tbody tr th {\n",
       "        vertical-align: top;\n",
       "    }\n",
       "\n",
       "    .dataframe thead th {\n",
       "        text-align: right;\n",
       "    }\n",
       "</style>\n",
       "<table border=\"1\" class=\"dataframe\">\n",
       "  <thead>\n",
       "    <tr style=\"text-align: right;\">\n",
       "      <th></th>\n",
       "      <th>ds</th>\n",
       "      <th>eNodeB Name</th>\n",
       "      <th>Integrity</th>\n",
       "      <th>RRC Setup Success Ratio_LTE(%)</th>\n",
       "      <th>RRC Setup Success Ratio_NOM_LTE(number)</th>\n",
       "      <th>RRC Setup Success Ratio_DENOM_LTE(number)</th>\n",
       "      <th>E-RAB Setup Success Ratio_LTE(%)</th>\n",
       "      <th>E-RAB Setup Success Ratio_NOM_LTE(number)</th>\n",
       "      <th>E-RAB Setup Success Ratio (Denom)</th>\n",
       "      <th>E-RAB Drop Ratio_LTE(%)</th>\n",
       "      <th>...</th>\n",
       "      <th>MS_Average PDCP Layer Active Cell Throughput UL_DENOM(number)</th>\n",
       "      <th>MS_Duration of Cell Unavailability(s)</th>\n",
       "      <th>MS_UL Packet Loss Rate(%)</th>\n",
       "      <th>MS_UL Packet Loss Rate_NOM(number)</th>\n",
       "      <th>MS_UL Packet Loss Rate_DENOM(number)</th>\n",
       "      <th>MS_RBLER-DL_NOM(number)</th>\n",
       "      <th>MS_RBLER-DL_DENOM(number)</th>\n",
       "      <th>MS_Inter-RAT HO Success Ratio(%)</th>\n",
       "      <th>MS_Inter-RAT HO Success Ratio_DENOM(number)</th>\n",
       "      <th>MS_Inter-RAT HO Success Ratio_NOM(number)</th>\n",
       "    </tr>\n",
       "  </thead>\n",
       "  <tbody>\n",
       "    <tr>\n",
       "      <th>0</th>\n",
       "      <td>2017-04-03 00:00:00</td>\n",
       "      <td>100049_jembatan_senen_singajaya_mbts</td>\n",
       "      <td>100%</td>\n",
       "      <td>99.933</td>\n",
       "      <td>1491.0</td>\n",
       "      <td>1492.0</td>\n",
       "      <td>100.0000</td>\n",
       "      <td>1650.0</td>\n",
       "      <td>1650.0</td>\n",
       "      <td>0.0606</td>\n",
       "      <td>...</td>\n",
       "      <td>347486.0</td>\n",
       "      <td>0.0</td>\n",
       "      <td>0.0</td>\n",
       "      <td>3.0</td>\n",
       "      <td>449159.0</td>\n",
       "      <td>168.0</td>\n",
       "      <td>570275.0</td>\n",
       "      <td>100.0</td>\n",
       "      <td>0.0</td>\n",
       "      <td>0.0</td>\n",
       "    </tr>\n",
       "    <tr>\n",
       "      <th>1</th>\n",
       "      <td>2017-04-03 01:00:00</td>\n",
       "      <td>100049_jembatan_senen_singajaya_mbts</td>\n",
       "      <td>100%</td>\n",
       "      <td>100.000</td>\n",
       "      <td>1557.0</td>\n",
       "      <td>1557.0</td>\n",
       "      <td>100.0000</td>\n",
       "      <td>1720.0</td>\n",
       "      <td>1720.0</td>\n",
       "      <td>0.0000</td>\n",
       "      <td>...</td>\n",
       "      <td>159008.0</td>\n",
       "      <td>0.0</td>\n",
       "      <td>0.0</td>\n",
       "      <td>3.0</td>\n",
       "      <td>149694.0</td>\n",
       "      <td>192.0</td>\n",
       "      <td>279770.0</td>\n",
       "      <td>100.0</td>\n",
       "      <td>0.0</td>\n",
       "      <td>0.0</td>\n",
       "    </tr>\n",
       "    <tr>\n",
       "      <th>2</th>\n",
       "      <td>2017-04-03 02:00:00</td>\n",
       "      <td>100049_jembatan_senen_singajaya_mbts</td>\n",
       "      <td>100%</td>\n",
       "      <td>100.000</td>\n",
       "      <td>1437.0</td>\n",
       "      <td>1437.0</td>\n",
       "      <td>100.0000</td>\n",
       "      <td>1546.0</td>\n",
       "      <td>1546.0</td>\n",
       "      <td>0.0000</td>\n",
       "      <td>...</td>\n",
       "      <td>217752.0</td>\n",
       "      <td>0.0</td>\n",
       "      <td>0.0</td>\n",
       "      <td>9.0</td>\n",
       "      <td>391976.0</td>\n",
       "      <td>427.0</td>\n",
       "      <td>605560.0</td>\n",
       "      <td>100.0</td>\n",
       "      <td>0.0</td>\n",
       "      <td>0.0</td>\n",
       "    </tr>\n",
       "    <tr>\n",
       "      <th>3</th>\n",
       "      <td>2017-04-03 03:00:00</td>\n",
       "      <td>100049_jembatan_senen_singajaya_mbts</td>\n",
       "      <td>100%</td>\n",
       "      <td>100.000</td>\n",
       "      <td>1291.0</td>\n",
       "      <td>1291.0</td>\n",
       "      <td>100.0000</td>\n",
       "      <td>1385.0</td>\n",
       "      <td>1385.0</td>\n",
       "      <td>0.0000</td>\n",
       "      <td>...</td>\n",
       "      <td>200762.0</td>\n",
       "      <td>0.0</td>\n",
       "      <td>0.0</td>\n",
       "      <td>0.0</td>\n",
       "      <td>333783.0</td>\n",
       "      <td>721.0</td>\n",
       "      <td>545415.0</td>\n",
       "      <td>100.0</td>\n",
       "      <td>0.0</td>\n",
       "      <td>0.0</td>\n",
       "    </tr>\n",
       "    <tr>\n",
       "      <th>4</th>\n",
       "      <td>2017-04-03 04:00:00</td>\n",
       "      <td>100049_jembatan_senen_singajaya_mbts</td>\n",
       "      <td>100%</td>\n",
       "      <td>100.000</td>\n",
       "      <td>1629.0</td>\n",
       "      <td>1629.0</td>\n",
       "      <td>100.0000</td>\n",
       "      <td>1743.0</td>\n",
       "      <td>1743.0</td>\n",
       "      <td>0.0571</td>\n",
       "      <td>...</td>\n",
       "      <td>66849.0</td>\n",
       "      <td>0.0</td>\n",
       "      <td>0.0</td>\n",
       "      <td>5.0</td>\n",
       "      <td>75871.0</td>\n",
       "      <td>146.0</td>\n",
       "      <td>164795.0</td>\n",
       "      <td>100.0</td>\n",
       "      <td>0.0</td>\n",
       "      <td>0.0</td>\n",
       "    </tr>\n",
       "    <tr>\n",
       "      <th>...</th>\n",
       "      <td>...</td>\n",
       "      <td>...</td>\n",
       "      <td>...</td>\n",
       "      <td>...</td>\n",
       "      <td>...</td>\n",
       "      <td>...</td>\n",
       "      <td>...</td>\n",
       "      <td>...</td>\n",
       "      <td>...</td>\n",
       "      <td>...</td>\n",
       "      <td>...</td>\n",
       "      <td>...</td>\n",
       "      <td>...</td>\n",
       "      <td>...</td>\n",
       "      <td>...</td>\n",
       "      <td>...</td>\n",
       "      <td>...</td>\n",
       "      <td>...</td>\n",
       "      <td>...</td>\n",
       "      <td>...</td>\n",
       "      <td>...</td>\n",
       "    </tr>\n",
       "    <tr>\n",
       "      <th>715</th>\n",
       "      <td>2017-05-02 19:00:00</td>\n",
       "      <td>100049_jembatan_senen_singajaya_mbts</td>\n",
       "      <td>100%</td>\n",
       "      <td>100.000</td>\n",
       "      <td>2897.0</td>\n",
       "      <td>2897.0</td>\n",
       "      <td>99.9660</td>\n",
       "      <td>2943.0</td>\n",
       "      <td>2944.0</td>\n",
       "      <td>0.0340</td>\n",
       "      <td>...</td>\n",
       "      <td>1820135.0</td>\n",
       "      <td>0.0</td>\n",
       "      <td>0.0</td>\n",
       "      <td>1772.0</td>\n",
       "      <td>1841648.0</td>\n",
       "      <td>282.0</td>\n",
       "      <td>2202983.0</td>\n",
       "      <td>100.0</td>\n",
       "      <td>0.0</td>\n",
       "      <td>0.0</td>\n",
       "    </tr>\n",
       "    <tr>\n",
       "      <th>716</th>\n",
       "      <td>2017-05-02 20:00:00</td>\n",
       "      <td>100049_jembatan_senen_singajaya_mbts</td>\n",
       "      <td>100%</td>\n",
       "      <td>100.000</td>\n",
       "      <td>3124.0</td>\n",
       "      <td>3124.0</td>\n",
       "      <td>99.9690</td>\n",
       "      <td>3221.0</td>\n",
       "      <td>3222.0</td>\n",
       "      <td>0.0621</td>\n",
       "      <td>...</td>\n",
       "      <td>1816672.0</td>\n",
       "      <td>0.0</td>\n",
       "      <td>0.0</td>\n",
       "      <td>894.0</td>\n",
       "      <td>2182370.0</td>\n",
       "      <td>355.0</td>\n",
       "      <td>2934592.0</td>\n",
       "      <td>100.0</td>\n",
       "      <td>0.0</td>\n",
       "      <td>0.0</td>\n",
       "    </tr>\n",
       "    <tr>\n",
       "      <th>717</th>\n",
       "      <td>2017-05-02 21:00:00</td>\n",
       "      <td>100049_jembatan_senen_singajaya_mbts</td>\n",
       "      <td>100%</td>\n",
       "      <td>100.000</td>\n",
       "      <td>3182.0</td>\n",
       "      <td>3182.0</td>\n",
       "      <td>100.0000</td>\n",
       "      <td>3324.0</td>\n",
       "      <td>3324.0</td>\n",
       "      <td>0.0904</td>\n",
       "      <td>...</td>\n",
       "      <td>2205099.0</td>\n",
       "      <td>0.0</td>\n",
       "      <td>0.0</td>\n",
       "      <td>1684.0</td>\n",
       "      <td>2077965.0</td>\n",
       "      <td>243.0</td>\n",
       "      <td>2919912.0</td>\n",
       "      <td>100.0</td>\n",
       "      <td>0.0</td>\n",
       "      <td>0.0</td>\n",
       "    </tr>\n",
       "    <tr>\n",
       "      <th>718</th>\n",
       "      <td>2017-05-02 22:00:00</td>\n",
       "      <td>100049_jembatan_senen_singajaya_mbts</td>\n",
       "      <td>100%</td>\n",
       "      <td>100.000</td>\n",
       "      <td>2502.0</td>\n",
       "      <td>2502.0</td>\n",
       "      <td>100.0000</td>\n",
       "      <td>2643.0</td>\n",
       "      <td>2643.0</td>\n",
       "      <td>0.0000</td>\n",
       "      <td>...</td>\n",
       "      <td>1264886.0</td>\n",
       "      <td>0.0</td>\n",
       "      <td>0.0</td>\n",
       "      <td>329.0</td>\n",
       "      <td>1560169.0</td>\n",
       "      <td>165.0</td>\n",
       "      <td>1856034.0</td>\n",
       "      <td>100.0</td>\n",
       "      <td>0.0</td>\n",
       "      <td>0.0</td>\n",
       "    </tr>\n",
       "    <tr>\n",
       "      <th>719</th>\n",
       "      <td>2017-05-02 23:00:00</td>\n",
       "      <td>100049_jembatan_senen_singajaya_mbts</td>\n",
       "      <td>100%</td>\n",
       "      <td>100.000</td>\n",
       "      <td>2019.0</td>\n",
       "      <td>2019.0</td>\n",
       "      <td>99.9534</td>\n",
       "      <td>2143.0</td>\n",
       "      <td>2144.0</td>\n",
       "      <td>0.0000</td>\n",
       "      <td>...</td>\n",
       "      <td>1063653.0</td>\n",
       "      <td>0.0</td>\n",
       "      <td>0.0</td>\n",
       "      <td>132.0</td>\n",
       "      <td>1811942.0</td>\n",
       "      <td>519.0</td>\n",
       "      <td>2443391.0</td>\n",
       "      <td>100.0</td>\n",
       "      <td>0.0</td>\n",
       "      <td>0.0</td>\n",
       "    </tr>\n",
       "  </tbody>\n",
       "</table>\n",
       "<p>720 rows × 101 columns</p>\n",
       "</div>"
      ],
      "text/plain": [
       "                      ds                           eNodeB Name Integrity  \\\n",
       "0    2017-04-03 00:00:00  100049_jembatan_senen_singajaya_mbts      100%   \n",
       "1    2017-04-03 01:00:00  100049_jembatan_senen_singajaya_mbts      100%   \n",
       "2    2017-04-03 02:00:00  100049_jembatan_senen_singajaya_mbts      100%   \n",
       "3    2017-04-03 03:00:00  100049_jembatan_senen_singajaya_mbts      100%   \n",
       "4    2017-04-03 04:00:00  100049_jembatan_senen_singajaya_mbts      100%   \n",
       "..                   ...                                   ...       ...   \n",
       "715  2017-05-02 19:00:00  100049_jembatan_senen_singajaya_mbts      100%   \n",
       "716  2017-05-02 20:00:00  100049_jembatan_senen_singajaya_mbts      100%   \n",
       "717  2017-05-02 21:00:00  100049_jembatan_senen_singajaya_mbts      100%   \n",
       "718  2017-05-02 22:00:00  100049_jembatan_senen_singajaya_mbts      100%   \n",
       "719  2017-05-02 23:00:00  100049_jembatan_senen_singajaya_mbts      100%   \n",
       "\n",
       "     RRC Setup Success Ratio_LTE(%)  RRC Setup Success Ratio_NOM_LTE(number)  \\\n",
       "0                            99.933                                   1491.0   \n",
       "1                           100.000                                   1557.0   \n",
       "2                           100.000                                   1437.0   \n",
       "3                           100.000                                   1291.0   \n",
       "4                           100.000                                   1629.0   \n",
       "..                              ...                                      ...   \n",
       "715                         100.000                                   2897.0   \n",
       "716                         100.000                                   3124.0   \n",
       "717                         100.000                                   3182.0   \n",
       "718                         100.000                                   2502.0   \n",
       "719                         100.000                                   2019.0   \n",
       "\n",
       "     RRC Setup Success Ratio_DENOM_LTE(number)  \\\n",
       "0                                       1492.0   \n",
       "1                                       1557.0   \n",
       "2                                       1437.0   \n",
       "3                                       1291.0   \n",
       "4                                       1629.0   \n",
       "..                                         ...   \n",
       "715                                     2897.0   \n",
       "716                                     3124.0   \n",
       "717                                     3182.0   \n",
       "718                                     2502.0   \n",
       "719                                     2019.0   \n",
       "\n",
       "     E-RAB Setup Success Ratio_LTE(%)  \\\n",
       "0                            100.0000   \n",
       "1                            100.0000   \n",
       "2                            100.0000   \n",
       "3                            100.0000   \n",
       "4                            100.0000   \n",
       "..                                ...   \n",
       "715                           99.9660   \n",
       "716                           99.9690   \n",
       "717                          100.0000   \n",
       "718                          100.0000   \n",
       "719                           99.9534   \n",
       "\n",
       "     E-RAB Setup Success Ratio_NOM_LTE(number)  \\\n",
       "0                                       1650.0   \n",
       "1                                       1720.0   \n",
       "2                                       1546.0   \n",
       "3                                       1385.0   \n",
       "4                                       1743.0   \n",
       "..                                         ...   \n",
       "715                                     2943.0   \n",
       "716                                     3221.0   \n",
       "717                                     3324.0   \n",
       "718                                     2643.0   \n",
       "719                                     2143.0   \n",
       "\n",
       "     E-RAB Setup Success Ratio (Denom)  E-RAB Drop Ratio_LTE(%)  ...  \\\n",
       "0                               1650.0                   0.0606  ...   \n",
       "1                               1720.0                   0.0000  ...   \n",
       "2                               1546.0                   0.0000  ...   \n",
       "3                               1385.0                   0.0000  ...   \n",
       "4                               1743.0                   0.0571  ...   \n",
       "..                                 ...                      ...  ...   \n",
       "715                             2944.0                   0.0340  ...   \n",
       "716                             3222.0                   0.0621  ...   \n",
       "717                             3324.0                   0.0904  ...   \n",
       "718                             2643.0                   0.0000  ...   \n",
       "719                             2144.0                   0.0000  ...   \n",
       "\n",
       "     MS_Average PDCP Layer Active Cell Throughput UL_DENOM(number)  \\\n",
       "0                                             347486.0               \n",
       "1                                             159008.0               \n",
       "2                                             217752.0               \n",
       "3                                             200762.0               \n",
       "4                                              66849.0               \n",
       "..                                                 ...               \n",
       "715                                          1820135.0               \n",
       "716                                          1816672.0               \n",
       "717                                          2205099.0               \n",
       "718                                          1264886.0               \n",
       "719                                          1063653.0               \n",
       "\n",
       "     MS_Duration of Cell Unavailability(s)  MS_UL Packet Loss Rate(%)  \\\n",
       "0                                      0.0                        0.0   \n",
       "1                                      0.0                        0.0   \n",
       "2                                      0.0                        0.0   \n",
       "3                                      0.0                        0.0   \n",
       "4                                      0.0                        0.0   \n",
       "..                                     ...                        ...   \n",
       "715                                    0.0                        0.0   \n",
       "716                                    0.0                        0.0   \n",
       "717                                    0.0                        0.0   \n",
       "718                                    0.0                        0.0   \n",
       "719                                    0.0                        0.0   \n",
       "\n",
       "     MS_UL Packet Loss Rate_NOM(number)  MS_UL Packet Loss Rate_DENOM(number)  \\\n",
       "0                                   3.0                              449159.0   \n",
       "1                                   3.0                              149694.0   \n",
       "2                                   9.0                              391976.0   \n",
       "3                                   0.0                              333783.0   \n",
       "4                                   5.0                               75871.0   \n",
       "..                                  ...                                   ...   \n",
       "715                              1772.0                             1841648.0   \n",
       "716                               894.0                             2182370.0   \n",
       "717                              1684.0                             2077965.0   \n",
       "718                               329.0                             1560169.0   \n",
       "719                               132.0                             1811942.0   \n",
       "\n",
       "     MS_RBLER-DL_NOM(number)  MS_RBLER-DL_DENOM(number)  \\\n",
       "0                      168.0                   570275.0   \n",
       "1                      192.0                   279770.0   \n",
       "2                      427.0                   605560.0   \n",
       "3                      721.0                   545415.0   \n",
       "4                      146.0                   164795.0   \n",
       "..                       ...                        ...   \n",
       "715                    282.0                  2202983.0   \n",
       "716                    355.0                  2934592.0   \n",
       "717                    243.0                  2919912.0   \n",
       "718                    165.0                  1856034.0   \n",
       "719                    519.0                  2443391.0   \n",
       "\n",
       "     MS_Inter-RAT HO Success Ratio(%)  \\\n",
       "0                               100.0   \n",
       "1                               100.0   \n",
       "2                               100.0   \n",
       "3                               100.0   \n",
       "4                               100.0   \n",
       "..                                ...   \n",
       "715                             100.0   \n",
       "716                             100.0   \n",
       "717                             100.0   \n",
       "718                             100.0   \n",
       "719                             100.0   \n",
       "\n",
       "    MS_Inter-RAT HO Success Ratio_DENOM(number)  \\\n",
       "0                                           0.0   \n",
       "1                                           0.0   \n",
       "2                                           0.0   \n",
       "3                                           0.0   \n",
       "4                                           0.0   \n",
       "..                                          ...   \n",
       "715                                         0.0   \n",
       "716                                         0.0   \n",
       "717                                         0.0   \n",
       "718                                         0.0   \n",
       "719                                         0.0   \n",
       "\n",
       "     MS_Inter-RAT HO Success Ratio_NOM(number)  \n",
       "0                                          0.0  \n",
       "1                                          0.0  \n",
       "2                                          0.0  \n",
       "3                                          0.0  \n",
       "4                                          0.0  \n",
       "..                                         ...  \n",
       "715                                        0.0  \n",
       "716                                        0.0  \n",
       "717                                        0.0  \n",
       "718                                        0.0  \n",
       "719                                        0.0  \n",
       "\n",
       "[720 rows x 101 columns]"
      ]
     },
     "execution_count": 6,
     "metadata": {},
     "output_type": "execute_result"
    }
   ],
   "source": [
    "df"
   ]
  },
  {
   "cell_type": "code",
   "execution_count": 7,
   "id": "28757810-92ac-4108-be86-ec8238507117",
   "metadata": {},
   "outputs": [
    {
     "data": {
      "text/html": [
       "<div>\n",
       "<style scoped>\n",
       "    .dataframe tbody tr th:only-of-type {\n",
       "        vertical-align: middle;\n",
       "    }\n",
       "\n",
       "    .dataframe tbody tr th {\n",
       "        vertical-align: top;\n",
       "    }\n",
       "\n",
       "    .dataframe thead th {\n",
       "        text-align: right;\n",
       "    }\n",
       "</style>\n",
       "<table border=\"1\" class=\"dataframe\">\n",
       "  <thead>\n",
       "    <tr style=\"text-align: right;\">\n",
       "      <th></th>\n",
       "      <th>RRC Setup Success Ratio_LTE(%)</th>\n",
       "      <th>RRC Setup Success Ratio_NOM_LTE(number)</th>\n",
       "      <th>RRC Setup Success Ratio_DENOM_LTE(number)</th>\n",
       "      <th>E-RAB Setup Success Ratio_LTE(%)</th>\n",
       "      <th>E-RAB Setup Success Ratio_NOM_LTE(number)</th>\n",
       "      <th>E-RAB Setup Success Ratio (Denom)</th>\n",
       "      <th>E-RAB Drop Ratio_LTE(%)</th>\n",
       "      <th>E-RAB Drop Ratio_NOM_LTE(number)</th>\n",
       "      <th>E-RAB Drop Ratio_DENOM_LTE(number)</th>\n",
       "      <th>Intra-eNB Handover Success Ratio_LTE(%)</th>\n",
       "      <th>...</th>\n",
       "      <th>MS_Average PDCP Layer Active Cell Throughput UL_DENOM(number)</th>\n",
       "      <th>MS_Duration of Cell Unavailability(s)</th>\n",
       "      <th>MS_UL Packet Loss Rate(%)</th>\n",
       "      <th>MS_UL Packet Loss Rate_NOM(number)</th>\n",
       "      <th>MS_UL Packet Loss Rate_DENOM(number)</th>\n",
       "      <th>MS_RBLER-DL_NOM(number)</th>\n",
       "      <th>MS_RBLER-DL_DENOM(number)</th>\n",
       "      <th>MS_Inter-RAT HO Success Ratio(%)</th>\n",
       "      <th>MS_Inter-RAT HO Success Ratio_DENOM(number)</th>\n",
       "      <th>MS_Inter-RAT HO Success Ratio_NOM(number)</th>\n",
       "    </tr>\n",
       "    <tr>\n",
       "      <th>eNodeB Name</th>\n",
       "      <th></th>\n",
       "      <th></th>\n",
       "      <th></th>\n",
       "      <th></th>\n",
       "      <th></th>\n",
       "      <th></th>\n",
       "      <th></th>\n",
       "      <th></th>\n",
       "      <th></th>\n",
       "      <th></th>\n",
       "      <th></th>\n",
       "      <th></th>\n",
       "      <th></th>\n",
       "      <th></th>\n",
       "      <th></th>\n",
       "      <th></th>\n",
       "      <th></th>\n",
       "      <th></th>\n",
       "      <th></th>\n",
       "      <th></th>\n",
       "      <th></th>\n",
       "    </tr>\n",
       "  </thead>\n",
       "  <tbody>\n",
       "    <tr>\n",
       "      <th>100049_jembatan_senen_singajaya_mbts</th>\n",
       "      <td>71994.3858</td>\n",
       "      <td>1477930.0</td>\n",
       "      <td>1478048.0</td>\n",
       "      <td>71981.6602</td>\n",
       "      <td>1554036.0</td>\n",
       "      <td>1554437.0</td>\n",
       "      <td>22.2044</td>\n",
       "      <td>506.0</td>\n",
       "      <td>1552805.0</td>\n",
       "      <td>71662.6634</td>\n",
       "      <td>...</td>\n",
       "      <td>597328452.0</td>\n",
       "      <td>5685.0</td>\n",
       "      <td>0.0</td>\n",
       "      <td>251851.0</td>\n",
       "      <td>829483804.0</td>\n",
       "      <td>144434.0</td>\n",
       "      <td>1.024966e+09</td>\n",
       "      <td>72000.0</td>\n",
       "      <td>0.0</td>\n",
       "      <td>0.0</td>\n",
       "    </tr>\n",
       "  </tbody>\n",
       "</table>\n",
       "<p>1 rows × 92 columns</p>\n",
       "</div>"
      ],
      "text/plain": [
       "                                      RRC Setup Success Ratio_LTE(%)  \\\n",
       "eNodeB Name                                                            \n",
       "100049_jembatan_senen_singajaya_mbts                      71994.3858   \n",
       "\n",
       "                                      RRC Setup Success Ratio_NOM_LTE(number)  \\\n",
       "eNodeB Name                                                                     \n",
       "100049_jembatan_senen_singajaya_mbts                                1477930.0   \n",
       "\n",
       "                                      RRC Setup Success Ratio_DENOM_LTE(number)  \\\n",
       "eNodeB Name                                                                       \n",
       "100049_jembatan_senen_singajaya_mbts                                  1478048.0   \n",
       "\n",
       "                                      E-RAB Setup Success Ratio_LTE(%)  \\\n",
       "eNodeB Name                                                              \n",
       "100049_jembatan_senen_singajaya_mbts                        71981.6602   \n",
       "\n",
       "                                      E-RAB Setup Success Ratio_NOM_LTE(number)  \\\n",
       "eNodeB Name                                                                       \n",
       "100049_jembatan_senen_singajaya_mbts                                  1554036.0   \n",
       "\n",
       "                                      E-RAB Setup Success Ratio (Denom)  \\\n",
       "eNodeB Name                                                               \n",
       "100049_jembatan_senen_singajaya_mbts                          1554437.0   \n",
       "\n",
       "                                      E-RAB Drop Ratio_LTE(%)  \\\n",
       "eNodeB Name                                                     \n",
       "100049_jembatan_senen_singajaya_mbts                  22.2044   \n",
       "\n",
       "                                      E-RAB Drop Ratio_NOM_LTE(number)  \\\n",
       "eNodeB Name                                                              \n",
       "100049_jembatan_senen_singajaya_mbts                             506.0   \n",
       "\n",
       "                                      E-RAB Drop Ratio_DENOM_LTE(number)  \\\n",
       "eNodeB Name                                                                \n",
       "100049_jembatan_senen_singajaya_mbts                           1552805.0   \n",
       "\n",
       "                                      Intra-eNB Handover Success Ratio_LTE(%)  \\\n",
       "eNodeB Name                                                                     \n",
       "100049_jembatan_senen_singajaya_mbts                               71662.6634   \n",
       "\n",
       "                                      ...  \\\n",
       "eNodeB Name                           ...   \n",
       "100049_jembatan_senen_singajaya_mbts  ...   \n",
       "\n",
       "                                      MS_Average PDCP Layer Active Cell Throughput UL_DENOM(number)  \\\n",
       "eNodeB Name                                                                                           \n",
       "100049_jembatan_senen_singajaya_mbts                                        597328452.0               \n",
       "\n",
       "                                      MS_Duration of Cell Unavailability(s)  \\\n",
       "eNodeB Name                                                                   \n",
       "100049_jembatan_senen_singajaya_mbts                                 5685.0   \n",
       "\n",
       "                                      MS_UL Packet Loss Rate(%)  \\\n",
       "eNodeB Name                                                       \n",
       "100049_jembatan_senen_singajaya_mbts                        0.0   \n",
       "\n",
       "                                      MS_UL Packet Loss Rate_NOM(number)  \\\n",
       "eNodeB Name                                                                \n",
       "100049_jembatan_senen_singajaya_mbts                            251851.0   \n",
       "\n",
       "                                      MS_UL Packet Loss Rate_DENOM(number)  \\\n",
       "eNodeB Name                                                                  \n",
       "100049_jembatan_senen_singajaya_mbts                           829483804.0   \n",
       "\n",
       "                                      MS_RBLER-DL_NOM(number)  \\\n",
       "eNodeB Name                                                     \n",
       "100049_jembatan_senen_singajaya_mbts                 144434.0   \n",
       "\n",
       "                                      MS_RBLER-DL_DENOM(number)  \\\n",
       "eNodeB Name                                                       \n",
       "100049_jembatan_senen_singajaya_mbts               1.024966e+09   \n",
       "\n",
       "                                      MS_Inter-RAT HO Success Ratio(%)  \\\n",
       "eNodeB Name                                                              \n",
       "100049_jembatan_senen_singajaya_mbts                           72000.0   \n",
       "\n",
       "                                      MS_Inter-RAT HO Success Ratio_DENOM(number)  \\\n",
       "eNodeB Name                                                                         \n",
       "100049_jembatan_senen_singajaya_mbts                                          0.0   \n",
       "\n",
       "                                      MS_Inter-RAT HO Success Ratio_NOM(number)  \n",
       "eNodeB Name                                                                      \n",
       "100049_jembatan_senen_singajaya_mbts                                        0.0  \n",
       "\n",
       "[1 rows x 92 columns]"
      ]
     },
     "execution_count": 7,
     "metadata": {},
     "output_type": "execute_result"
    }
   ],
   "source": [
    "df = df.groupby('eNodeB Name').sum()\n",
    "df"
   ]
  },
  {
   "cell_type": "code",
   "execution_count": 3,
   "id": "6a00e26f-7eea-4e57-b3c2-06bfc51928b5",
   "metadata": {},
   "outputs": [
    {
     "data": {
      "text/plain": [
       "0      1.8518\n",
       "1      0.9493\n",
       "2      1.3613\n",
       "3      1.2258\n",
       "4      0.8577\n",
       "        ...  \n",
       "715    2.2919\n",
       "716    1.6205\n",
       "717    2.2367\n",
       "718    1.7487\n",
       "719    1.3240\n",
       "Name: ul_avg, Length: 720, dtype: float64"
      ]
     },
     "execution_count": 3,
     "metadata": {},
     "output_type": "execute_result"
    }
   ],
   "source": [
    "df = pd.read_csv(\"data/100049_jembatan_senen_singajaya_mbts.csv\")\n",
    "df['ul_avg']"
   ]
  },
  {
   "cell_type": "code",
   "execution_count": 46,
   "id": "4eb30229-6a25-425b-85c3-bd8351a7c509",
   "metadata": {},
   "outputs": [
    {
     "data": {
      "text/plain": [
       "False"
      ]
     },
     "execution_count": 46,
     "metadata": {},
     "output_type": "execute_result"
    }
   ],
   "source": [
    "\"user_input.csv\" in os.listdir(\"Final/data\")"
   ]
  },
  {
   "cell_type": "code",
   "execution_count": 67,
   "id": "ceaf54f2-3255-4b9e-a73f-b5b9558feb39",
   "metadata": {},
   "outputs": [],
   "source": [
    "pd.set_option(\"display.max_rows\", 10)\n",
    "pd.set_option(\"display.max_columns\", 999)"
   ]
  },
  {
   "cell_type": "code",
   "execution_count": 3,
   "id": "d2cd0331-68ce-4cd4-9bca-aaf434734b32",
   "metadata": {},
   "outputs": [],
   "source": [
    "def feature_selection(df, target, top_threshold, bot_threshold, top, bot, automatic):\n",
    "    \"\"\"\n",
    "    Fungsi buat feature selection sebelum modeling\n",
    "    input :\n",
    "        df = df yang mau dicari corelationnya\n",
    "        target = variabel yang mau diprediksi oleh model\n",
    "        top_threshold = threshold korelasi positif terkecil\n",
    "        bot_threshold = threshold korelasi negatif terkecil\n",
    "        top = top n feature berkorelasi positif terhadap target\n",
    "        bot = bot n feature berkorelasi negatif terhadap target\n",
    "        automatic = menentukan apakah feature selectionnya mau dilakuin secara otomatis\n",
    "    \n",
    "    output :\n",
    "        feature_cols = kolom2 hasil feature selection untuk modeling yang sesuai dengan kriteria\n",
    "    \"\"\"\n",
    "    if automatic :\n",
    "        head_cols = list(corr[corr[target]>=0.5][target].sort_values(ascending=False).head(10).index)\n",
    "        bot_cols = list(corr[corr[target]<=-0.5][target].sort_values().head(10).index)\n",
    "        feature_cols = head_cols + bot_cols\n",
    "    else :\n",
    "        head_cols = list(corr[corr[target]>=top_threshold][target].sort_values(ascending=False).head(top).index)\n",
    "        bot_cols = list(corr[corr[target]<=bot_threshold][target].sort_values().head(bot).index)\n",
    "        feature_cols = head_cols + bot_cols\n",
    "    feature_cols.remove(target)\n",
    "    return feature_cols"
   ]
  },
  {
   "cell_type": "code",
   "execution_count": 4,
   "id": "0a11e865-c14d-4a1e-91aa-a7042676a18c",
   "metadata": {},
   "outputs": [],
   "source": [
    "def load_data(path, sep=','):\n",
    "    \"\"\"\n",
    "    TODO :\n",
    "        Ilangin df.renamenya\n",
    "        buat dinamis biar bisa milih targetnya yang mana dan lainnya dianggep X\n",
    "        dropna sesuai target\n",
    "    \"\"\"\n",
    "    df = pd.read_csv(path, sep=sep)\n",
    "    df = df.rename(columns={\n",
    "        'User DL Average Throughput_LTE(kB/s)' : 'dl_avg',\n",
    "        'User UL Average Throughput_LTE(kB/s)' : 'ul_avg',\n",
    "        'Cell DL Peak Throughput_LTE(MB/s)' : 'dl_peak',\n",
    "        'Cell UL Peak Throughput_LTE(MB/s)' : 'ul_peak'\n",
    "    })\n",
    "    df = df.dropna(subset=['dl_avg', 'ul_avg', 'dl_peak', 'ul_peak'])\n",
    "    return df"
   ]
  },
  {
   "cell_type": "code",
   "execution_count": 5,
   "id": "4a1b4149-3216-4663-8f6d-1e0bb1c249ab",
   "metadata": {},
   "outputs": [],
   "source": [
    "def filter_data(df):\n",
    "    \"\"\"\n",
    "    filter data so only bts with full data will be used\n",
    "    input :\n",
    "        df = dataframe yang mau difilter\n",
    "    output :\n",
    "        filtered = dataframe yang sudah difilter\n",
    "        bts_name = nama2 bts pada data yang sudah difilter\n",
    "    \n",
    "    TODO \n",
    "        - can also not use any time index because we only want to see \n",
    "        the order not the date\n",
    "        - make it more dynamic\n",
    "    \"\"\"\n",
    "    df['eNodeB Name'] = df['eNodeB Name'].apply(lambda x: str(x).lower())\n",
    "    df['Time']=pd.to_datetime(df['Time'])\n",
    "    \n",
    "    filtered = df[df['eNodeB Name'].map(df['eNodeB Name'].value_counts()) == 720]\n",
    "    filtered = filtered.rename(columns={'Time':'ds'})\n",
    "    bts_name = filtered['eNodeB Name'].unique()\n",
    "    \n",
    "    return filtered, bts_name\n",
    "\n",
    "# get data\n",
    "def get_data(bts_data, bts_name, target):\n",
    "    \"\"\"\n",
    "    get data with specific bts\n",
    "    renaming the time series to ds and target to y\n",
    "    input :\n",
    "        bts_data : data hasil filter dengan filter_data()\n",
    "        bts_name : nama bts yang mau diliat\n",
    "        column : target yang mau diprediksi\n",
    "    output :\n",
    "        X : data predictor\n",
    "        y : data target\n",
    "    \"\"\"\n",
    "    bts_data = bts_data[bts_data['eNodeB Name']==bts_name]\n",
    "    X = bts_data.drop(columns=target)\n",
    "    y = bts_data[target]\n",
    "    return X, y"
   ]
  },
  {
   "cell_type": "code",
   "execution_count": 40,
   "id": "8ad936b0-c796-445a-b28c-3502932ac4ae",
   "metadata": {},
   "outputs": [],
   "source": [
    "def split_data(X, y, train_perc):\n",
    "    \"\"\"\n",
    "    split train dan testing\n",
    "    Input :\n",
    "        X = \n",
    "        y = \n",
    "        train_perc = persentase data train\n",
    "    Output :\n",
    "        X_train\n",
    "        y_train\n",
    "        X_test\n",
    "        y_test\n",
    "    \"\"\"\n",
    "    train_size = int(len(X)*train_perc)\n",
    "    return X[:train_size], y[:train_size], X[train_size:], y[train_size:]"
   ]
  },
  {
   "cell_type": "code",
   "execution_count": 26,
   "id": "c64c30a0-4d9e-4a2d-83a0-ca55628b5e5f",
   "metadata": {},
   "outputs": [],
   "source": [
    "def make_univariate(data, timelag):\n",
    "    x = []\n",
    "    y = []\n",
    "    for i in range(len(data)-timelag):\n",
    "        x_lagged = []\n",
    "        for j in range(timelag):\n",
    "            x_lagged.append(data.iloc[i+j])\n",
    "        x.append(x_lagged)\n",
    "        y.append(data.iloc[i+timelag])\n",
    "    return np.array(x), np.array(y)\n",
    "\n",
    "def make_multivariate(data, features):\n",
    "    return data[features]"
   ]
  },
  {
   "cell_type": "code",
   "execution_count": 8,
   "id": "1d6fcb32-034f-4124-8477-6b1e55e19a19",
   "metadata": {},
   "outputs": [],
   "source": [
    "path = 'D:/Kuliah/SEM7/TA1/data/bts data.csv'\n",
    "sep = ';'\n",
    "df = load_data(path, sep)"
   ]
  },
  {
   "cell_type": "code",
   "execution_count": 9,
   "id": "5c30e056-87b2-4e13-b5cd-61b18fcae008",
   "metadata": {},
   "outputs": [],
   "source": [
    "df_corr = df.corr()"
   ]
  },
  {
   "cell_type": "code",
   "execution_count": 10,
   "id": "dc0edc2c-3700-4b2d-a9d3-7a66c45e3d27",
   "metadata": {},
   "outputs": [
    {
     "data": {
      "text/plain": [
       "['MS_Average PDCP Layer Active Cell Throughput DL(number)',\n",
       " 'Maximum eNodeB RB utilization DL_LTE(%)',\n",
       " 'Maximum eNodeB RB utilization DL (Nom)(number)',\n",
       " 'MS_RTWP(dBm)',\n",
       " 'MS_RBLER-DL_DENOM(number)',\n",
       " 'MS_Average PDCP Layer Active Cell Throughput DL_DENOM(number)']"
      ]
     },
     "execution_count": 10,
     "metadata": {},
     "output_type": "execute_result"
    }
   ],
   "source": [
    "cols = feature_selection(df_corr, 'dl_avg', 0.5, -0.4, 5, 5, False)\n",
    "cols"
   ]
  },
  {
   "cell_type": "code",
   "execution_count": 11,
   "id": "147a14d7-6746-48b0-8b37-8092370e68f1",
   "metadata": {},
   "outputs": [],
   "source": [
    "df_filtered, bts_names = filter_data(df)"
   ]
  },
  {
   "cell_type": "code",
   "execution_count": 73,
   "id": "48c7e8b3-5f77-415c-9de8-1145dea328ed",
   "metadata": {},
   "outputs": [],
   "source": [
    "i = 4\n",
    "bts_data = df_filtered[df_filtered['eNodeB Name']==bts_names[i]].to_csv(f'Final/data/{bts_names[i]}.csv', index=False)"
   ]
  },
  {
   "cell_type": "code",
   "execution_count": 76,
   "id": "cdb70411-28de-444d-813e-ae986b958b39",
   "metadata": {},
   "outputs": [
    {
     "data": {
      "text/plain": [
       "13        9.8314\n",
       "575       9.1234\n",
       "947       8.1767\n",
       "1201      8.3349\n",
       "1601      8.5844\n",
       "           ...  \n",
       "274946    5.6806\n",
       "275224    6.4428\n",
       "275545    7.3396\n",
       "275954    8.6190\n",
       "276397    4.4761\n",
       "Name: dl_avg, Length: 720, dtype: float64"
      ]
     },
     "execution_count": 76,
     "metadata": {},
     "output_type": "execute_result"
    }
   ],
   "source": [
    "bts_data = df_filtered[df_filtered['eNodeB Name']==bts_names[i]]\n",
    "bts_data['dl_avg']"
   ]
  },
  {
   "cell_type": "markdown",
   "id": "ab1ef51f-15a6-4ed2-a745-87797118453d",
   "metadata": {},
   "source": [
    "# Model"
   ]
  },
  {
   "cell_type": "markdown",
   "id": "cd8156b2-b7ce-4e63-9a2f-b8283027c624",
   "metadata": {},
   "source": [
    "## RF Multivariate"
   ]
  },
  {
   "cell_type": "code",
   "execution_count": 23,
   "id": "52e6b4c3-c9c8-47b2-ba93-2e37a9093da2",
   "metadata": {},
   "outputs": [],
   "source": [
    "from sklearn.preprocessing import MinMaxScaler\n",
    "scaler = MinMaxScaler()\n",
    "y_norm = scaler.fit_transform(y.values.reshape(-1, 1))\n",
    "df['y_norm'] = y_norm"
   ]
  },
  {
   "cell_type": "code",
   "execution_count": 27,
   "id": "3ad42b51-4a7f-443c-9f32-f4792610905d",
   "metadata": {},
   "outputs": [],
   "source": [
    "y = df['ul_avg']\n",
    "X = df.drop(columns=['ul_avg'])"
   ]
  },
  {
   "cell_type": "code",
   "execution_count": 28,
   "id": "a94ac777-b250-44a7-a862-552b304790cf",
   "metadata": {},
   "outputs": [],
   "source": [
    "regr = RandomForestRegressor(random_state=42)"
   ]
  },
  {
   "cell_type": "code",
   "execution_count": 29,
   "id": "8f001eb8-2666-4798-96d7-4a6d5e32cd37",
   "metadata": {
    "tags": []
   },
   "outputs": [
    {
     "ename": "NameError",
     "evalue": "name 'get_data' is not defined",
     "output_type": "error",
     "traceback": [
      "\u001b[1;31m---------------------------------------------------------------------------\u001b[0m",
      "\u001b[1;31mNameError\u001b[0m                                 Traceback (most recent call last)",
      "\u001b[1;32m~\\AppData\\Local\\Temp/ipykernel_8528/4265009701.py\u001b[0m in \u001b[0;36m<module>\u001b[1;34m\u001b[0m\n\u001b[1;32m----> 1\u001b[1;33m \u001b[0mX\u001b[0m\u001b[1;33m,\u001b[0m\u001b[0my\u001b[0m \u001b[1;33m=\u001b[0m \u001b[0mget_data\u001b[0m\u001b[1;33m(\u001b[0m\u001b[0mdf_filtered\u001b[0m\u001b[1;33m,\u001b[0m \u001b[0mbts_names\u001b[0m\u001b[1;33m[\u001b[0m\u001b[1;36m0\u001b[0m\u001b[1;33m]\u001b[0m\u001b[1;33m,\u001b[0m \u001b[1;34m'dl_avg'\u001b[0m\u001b[1;33m)\u001b[0m\u001b[1;33m\u001b[0m\u001b[1;33m\u001b[0m\u001b[0m\n\u001b[0m\u001b[0;32m      2\u001b[0m \u001b[0mX\u001b[0m \u001b[1;33m=\u001b[0m \u001b[0mmake_multivariate\u001b[0m\u001b[1;33m(\u001b[0m\u001b[0mX\u001b[0m\u001b[1;33m,\u001b[0m \u001b[0mcols\u001b[0m\u001b[1;33m)\u001b[0m\u001b[1;33m\u001b[0m\u001b[1;33m\u001b[0m\u001b[0m\n\u001b[0;32m      3\u001b[0m \u001b[1;31m#regr.fit()\u001b[0m\u001b[1;33m\u001b[0m\u001b[1;33m\u001b[0m\u001b[0m\n",
      "\u001b[1;31mNameError\u001b[0m: name 'get_data' is not defined"
     ]
    }
   ],
   "source": [
    "#X,y = get_data(df_filtered, bts_names[0], 'dl_avg')\n",
    "X = make_multivariate(X, cols)\n",
    "#regr.fit()"
   ]
  },
  {
   "cell_type": "code",
   "execution_count": 10,
   "id": "d902212e-dd8a-4f48-bc62-6b3562662235",
   "metadata": {
    "collapsed": true,
    "jupyter": {
     "outputs_hidden": true
    },
    "tags": []
   },
   "outputs": [
    {
     "ename": "ValueError",
     "evalue": "could not convert string to float: '2017-04-03 00:00:00'",
     "output_type": "error",
     "traceback": [
      "\u001b[1;31m---------------------------------------------------------------------------\u001b[0m",
      "\u001b[1;31mValueError\u001b[0m                                Traceback (most recent call last)",
      "\u001b[1;32m~\\AppData\\Local\\Temp/ipykernel_8528/2201162481.py\u001b[0m in \u001b[0;36m<module>\u001b[1;34m\u001b[0m\n\u001b[1;32m----> 1\u001b[1;33m \u001b[0mregr\u001b[0m\u001b[1;33m.\u001b[0m\u001b[0mfit\u001b[0m\u001b[1;33m(\u001b[0m\u001b[0mX\u001b[0m\u001b[1;33m,\u001b[0m \u001b[0my\u001b[0m\u001b[1;33m)\u001b[0m\u001b[1;33m\u001b[0m\u001b[1;33m\u001b[0m\u001b[0m\n\u001b[0m",
      "\u001b[1;32m~\\anaconda3\\envs\\streamlit\\lib\\site-packages\\sklearn\\ensemble\\_forest.py\u001b[0m in \u001b[0;36mfit\u001b[1;34m(self, X, y, sample_weight)\u001b[0m\n\u001b[0;32m    325\u001b[0m         \u001b[1;32mif\u001b[0m \u001b[0missparse\u001b[0m\u001b[1;33m(\u001b[0m\u001b[0my\u001b[0m\u001b[1;33m)\u001b[0m\u001b[1;33m:\u001b[0m\u001b[1;33m\u001b[0m\u001b[1;33m\u001b[0m\u001b[0m\n\u001b[0;32m    326\u001b[0m             \u001b[1;32mraise\u001b[0m \u001b[0mValueError\u001b[0m\u001b[1;33m(\u001b[0m\u001b[1;34m\"sparse multilabel-indicator for y is not supported.\"\u001b[0m\u001b[1;33m)\u001b[0m\u001b[1;33m\u001b[0m\u001b[1;33m\u001b[0m\u001b[0m\n\u001b[1;32m--> 327\u001b[1;33m         X, y = self._validate_data(\n\u001b[0m\u001b[0;32m    328\u001b[0m             \u001b[0mX\u001b[0m\u001b[1;33m,\u001b[0m \u001b[0my\u001b[0m\u001b[1;33m,\u001b[0m \u001b[0mmulti_output\u001b[0m\u001b[1;33m=\u001b[0m\u001b[1;32mTrue\u001b[0m\u001b[1;33m,\u001b[0m \u001b[0maccept_sparse\u001b[0m\u001b[1;33m=\u001b[0m\u001b[1;34m\"csc\"\u001b[0m\u001b[1;33m,\u001b[0m \u001b[0mdtype\u001b[0m\u001b[1;33m=\u001b[0m\u001b[0mDTYPE\u001b[0m\u001b[1;33m\u001b[0m\u001b[1;33m\u001b[0m\u001b[0m\n\u001b[0;32m    329\u001b[0m         )\n",
      "\u001b[1;32m~\\anaconda3\\envs\\streamlit\\lib\\site-packages\\sklearn\\base.py\u001b[0m in \u001b[0;36m_validate_data\u001b[1;34m(self, X, y, reset, validate_separately, **check_params)\u001b[0m\n\u001b[0;32m    574\u001b[0m                 \u001b[0my\u001b[0m \u001b[1;33m=\u001b[0m \u001b[0mcheck_array\u001b[0m\u001b[1;33m(\u001b[0m\u001b[0my\u001b[0m\u001b[1;33m,\u001b[0m \u001b[1;33m**\u001b[0m\u001b[0mcheck_y_params\u001b[0m\u001b[1;33m)\u001b[0m\u001b[1;33m\u001b[0m\u001b[1;33m\u001b[0m\u001b[0m\n\u001b[0;32m    575\u001b[0m             \u001b[1;32melse\u001b[0m\u001b[1;33m:\u001b[0m\u001b[1;33m\u001b[0m\u001b[1;33m\u001b[0m\u001b[0m\n\u001b[1;32m--> 576\u001b[1;33m                 \u001b[0mX\u001b[0m\u001b[1;33m,\u001b[0m \u001b[0my\u001b[0m \u001b[1;33m=\u001b[0m \u001b[0mcheck_X_y\u001b[0m\u001b[1;33m(\u001b[0m\u001b[0mX\u001b[0m\u001b[1;33m,\u001b[0m \u001b[0my\u001b[0m\u001b[1;33m,\u001b[0m \u001b[1;33m**\u001b[0m\u001b[0mcheck_params\u001b[0m\u001b[1;33m)\u001b[0m\u001b[1;33m\u001b[0m\u001b[1;33m\u001b[0m\u001b[0m\n\u001b[0m\u001b[0;32m    577\u001b[0m             \u001b[0mout\u001b[0m \u001b[1;33m=\u001b[0m \u001b[0mX\u001b[0m\u001b[1;33m,\u001b[0m \u001b[0my\u001b[0m\u001b[1;33m\u001b[0m\u001b[1;33m\u001b[0m\u001b[0m\n\u001b[0;32m    578\u001b[0m \u001b[1;33m\u001b[0m\u001b[0m\n",
      "\u001b[1;32m~\\anaconda3\\envs\\streamlit\\lib\\site-packages\\sklearn\\utils\\validation.py\u001b[0m in \u001b[0;36mcheck_X_y\u001b[1;34m(X, y, accept_sparse, accept_large_sparse, dtype, order, copy, force_all_finite, ensure_2d, allow_nd, multi_output, ensure_min_samples, ensure_min_features, y_numeric, estimator)\u001b[0m\n\u001b[0;32m    954\u001b[0m         \u001b[1;32mraise\u001b[0m \u001b[0mValueError\u001b[0m\u001b[1;33m(\u001b[0m\u001b[1;34m\"y cannot be None\"\u001b[0m\u001b[1;33m)\u001b[0m\u001b[1;33m\u001b[0m\u001b[1;33m\u001b[0m\u001b[0m\n\u001b[0;32m    955\u001b[0m \u001b[1;33m\u001b[0m\u001b[0m\n\u001b[1;32m--> 956\u001b[1;33m     X = check_array(\n\u001b[0m\u001b[0;32m    957\u001b[0m         \u001b[0mX\u001b[0m\u001b[1;33m,\u001b[0m\u001b[1;33m\u001b[0m\u001b[1;33m\u001b[0m\u001b[0m\n\u001b[0;32m    958\u001b[0m         \u001b[0maccept_sparse\u001b[0m\u001b[1;33m=\u001b[0m\u001b[0maccept_sparse\u001b[0m\u001b[1;33m,\u001b[0m\u001b[1;33m\u001b[0m\u001b[1;33m\u001b[0m\u001b[0m\n",
      "\u001b[1;32m~\\anaconda3\\envs\\streamlit\\lib\\site-packages\\sklearn\\utils\\validation.py\u001b[0m in \u001b[0;36mcheck_array\u001b[1;34m(array, accept_sparse, accept_large_sparse, dtype, order, copy, force_all_finite, ensure_2d, allow_nd, ensure_min_samples, ensure_min_features, estimator)\u001b[0m\n\u001b[0;32m    736\u001b[0m                     \u001b[0marray\u001b[0m \u001b[1;33m=\u001b[0m \u001b[0marray\u001b[0m\u001b[1;33m.\u001b[0m\u001b[0mastype\u001b[0m\u001b[1;33m(\u001b[0m\u001b[0mdtype\u001b[0m\u001b[1;33m,\u001b[0m \u001b[0mcasting\u001b[0m\u001b[1;33m=\u001b[0m\u001b[1;34m\"unsafe\"\u001b[0m\u001b[1;33m,\u001b[0m \u001b[0mcopy\u001b[0m\u001b[1;33m=\u001b[0m\u001b[1;32mFalse\u001b[0m\u001b[1;33m)\u001b[0m\u001b[1;33m\u001b[0m\u001b[1;33m\u001b[0m\u001b[0m\n\u001b[0;32m    737\u001b[0m                 \u001b[1;32melse\u001b[0m\u001b[1;33m:\u001b[0m\u001b[1;33m\u001b[0m\u001b[1;33m\u001b[0m\u001b[0m\n\u001b[1;32m--> 738\u001b[1;33m                     \u001b[0marray\u001b[0m \u001b[1;33m=\u001b[0m \u001b[0mnp\u001b[0m\u001b[1;33m.\u001b[0m\u001b[0masarray\u001b[0m\u001b[1;33m(\u001b[0m\u001b[0marray\u001b[0m\u001b[1;33m,\u001b[0m \u001b[0morder\u001b[0m\u001b[1;33m=\u001b[0m\u001b[0morder\u001b[0m\u001b[1;33m,\u001b[0m \u001b[0mdtype\u001b[0m\u001b[1;33m=\u001b[0m\u001b[0mdtype\u001b[0m\u001b[1;33m)\u001b[0m\u001b[1;33m\u001b[0m\u001b[1;33m\u001b[0m\u001b[0m\n\u001b[0m\u001b[0;32m    739\u001b[0m             \u001b[1;32mexcept\u001b[0m \u001b[0mComplexWarning\u001b[0m \u001b[1;32mas\u001b[0m \u001b[0mcomplex_warning\u001b[0m\u001b[1;33m:\u001b[0m\u001b[1;33m\u001b[0m\u001b[1;33m\u001b[0m\u001b[0m\n\u001b[0;32m    740\u001b[0m                 raise ValueError(\n",
      "\u001b[1;32m~\\anaconda3\\envs\\streamlit\\lib\\site-packages\\pandas\\core\\generic.py\u001b[0m in \u001b[0;36m__array__\u001b[1;34m(self, dtype)\u001b[0m\n\u001b[0;32m   1991\u001b[0m \u001b[1;33m\u001b[0m\u001b[0m\n\u001b[0;32m   1992\u001b[0m     \u001b[1;32mdef\u001b[0m \u001b[0m__array__\u001b[0m\u001b[1;33m(\u001b[0m\u001b[0mself\u001b[0m\u001b[1;33m,\u001b[0m \u001b[0mdtype\u001b[0m\u001b[1;33m:\u001b[0m \u001b[0mNpDtype\u001b[0m \u001b[1;33m|\u001b[0m \u001b[1;32mNone\u001b[0m \u001b[1;33m=\u001b[0m \u001b[1;32mNone\u001b[0m\u001b[1;33m)\u001b[0m \u001b[1;33m->\u001b[0m \u001b[0mnp\u001b[0m\u001b[1;33m.\u001b[0m\u001b[0mndarray\u001b[0m\u001b[1;33m:\u001b[0m\u001b[1;33m\u001b[0m\u001b[1;33m\u001b[0m\u001b[0m\n\u001b[1;32m-> 1993\u001b[1;33m         \u001b[1;32mreturn\u001b[0m \u001b[0mnp\u001b[0m\u001b[1;33m.\u001b[0m\u001b[0masarray\u001b[0m\u001b[1;33m(\u001b[0m\u001b[0mself\u001b[0m\u001b[1;33m.\u001b[0m\u001b[0m_values\u001b[0m\u001b[1;33m,\u001b[0m \u001b[0mdtype\u001b[0m\u001b[1;33m=\u001b[0m\u001b[0mdtype\u001b[0m\u001b[1;33m)\u001b[0m\u001b[1;33m\u001b[0m\u001b[1;33m\u001b[0m\u001b[0m\n\u001b[0m\u001b[0;32m   1994\u001b[0m \u001b[1;33m\u001b[0m\u001b[0m\n\u001b[0;32m   1995\u001b[0m     def __array_wrap__(\n",
      "\u001b[1;31mValueError\u001b[0m: could not convert string to float: '2017-04-03 00:00:00'"
     ]
    }
   ],
   "source": [
    "regr.fit(X, y)"
   ]
  },
  {
   "cell_type": "code",
   "execution_count": 15,
   "id": "976c7160-7aa0-4c20-88ae-477e1558d889",
   "metadata": {},
   "outputs": [
    {
     "data": {
      "text/plain": [
       "0.1286338372037486"
      ]
     },
     "execution_count": 15,
     "metadata": {},
     "output_type": "execute_result"
    }
   ],
   "source": [
    "mean_squared_error(y, regr.predict(X))"
   ]
  },
  {
   "cell_type": "markdown",
   "id": "383b72fe-068e-4e68-a253-fbc058a55a85",
   "metadata": {},
   "source": [
    "## RF Univariate"
   ]
  },
  {
   "cell_type": "code",
   "execution_count": 41,
   "id": "8d4f9f8b-00eb-4b2b-b5a5-a35bf36966da",
   "metadata": {},
   "outputs": [],
   "source": [
    "uni_x, uni_y = make_univariate(y, 5)\n",
    "uni_x_tr, uni_y_tr, uni_x_val, uni_y_val = split_data(uni_x, uni_y, 0.2)"
   ]
  },
  {
   "cell_type": "code",
   "execution_count": 37,
   "id": "3207f404-75e7-48fe-a997-60e1f6428785",
   "metadata": {},
   "outputs": [
    {
     "data": {
      "text/plain": [
       "RandomForestRegressor(random_state=42)"
      ]
     },
     "execution_count": 37,
     "metadata": {},
     "output_type": "execute_result"
    }
   ],
   "source": [
    "regr = RandomForestRegressor(random_state=42)\n",
    "regr.fit(uni_x, uni_y)"
   ]
  },
  {
   "cell_type": "code",
   "execution_count": 38,
   "id": "2e2d358a-afa7-4ac2-8601-71b0e30f1d79",
   "metadata": {},
   "outputs": [
    {
     "data": {
      "text/plain": [
       "0.05193591193754689"
      ]
     },
     "execution_count": 38,
     "metadata": {},
     "output_type": "execute_result"
    }
   ],
   "source": [
    "mean_squared_error(uni_y, regr.predict(uni_x))"
   ]
  },
  {
   "cell_type": "markdown",
   "id": "bacd3557-acf2-467f-a0e1-d1f52b888058",
   "metadata": {},
   "source": [
    "## SVR Multivariate"
   ]
  },
  {
   "cell_type": "code",
   "execution_count": null,
   "id": "f0335472-19e1-45ee-aa51-e1d259a8b6d8",
   "metadata": {},
   "outputs": [],
   "source": [
    "X,y = get_data(df_filtered, bts_names[0], 'dl_avg')\n",
    "X = make_multivariate(X, cols)\n",
    "#regr.fit()"
   ]
  },
  {
   "cell_type": "code",
   "execution_count": 139,
   "id": "82fdb448-f581-4d0c-98be-7bb44ad412f2",
   "metadata": {},
   "outputs": [
    {
     "data": {
      "text/plain": [
       "SVR()"
      ]
     },
     "execution_count": 139,
     "metadata": {},
     "output_type": "execute_result"
    }
   ],
   "source": [
    "regr = SVR()\n",
    "regr.fit(X, y)"
   ]
  },
  {
   "cell_type": "code",
   "execution_count": 140,
   "id": "ab75485c-e9ab-4eda-aa98-94e2d1761eb3",
   "metadata": {},
   "outputs": [
    {
     "data": {
      "text/plain": [
       "2.296328287707299"
      ]
     },
     "execution_count": 140,
     "metadata": {},
     "output_type": "execute_result"
    }
   ],
   "source": [
    "mean_squared_error(y, regr.predict(X))"
   ]
  },
  {
   "cell_type": "markdown",
   "id": "86f48b51-819a-421e-9e15-1031e7198c83",
   "metadata": {},
   "source": [
    "## SVR Univariate"
   ]
  },
  {
   "cell_type": "code",
   "execution_count": 27,
   "id": "29c05fbc-ef1d-413a-9a82-e6831396e82e",
   "metadata": {},
   "outputs": [
    {
     "ename": "NameError",
     "evalue": "name 'y' is not defined",
     "output_type": "error",
     "traceback": [
      "\u001b[1;31m---------------------------------------------------------------------------\u001b[0m",
      "\u001b[1;31mNameError\u001b[0m                                 Traceback (most recent call last)",
      "\u001b[1;32m~\\AppData\\Local\\Temp/ipykernel_13416/408425400.py\u001b[0m in \u001b[0;36m<module>\u001b[1;34m\u001b[0m\n\u001b[1;32m----> 1\u001b[1;33m \u001b[0muni_x\u001b[0m\u001b[1;33m,\u001b[0m \u001b[0muni_y\u001b[0m \u001b[1;33m=\u001b[0m \u001b[0mmake_univariate\u001b[0m\u001b[1;33m(\u001b[0m\u001b[0my\u001b[0m\u001b[1;33m,\u001b[0m \u001b[1;36m2\u001b[0m\u001b[1;33m)\u001b[0m\u001b[1;33m\u001b[0m\u001b[1;33m\u001b[0m\u001b[0m\n\u001b[0m",
      "\u001b[1;31mNameError\u001b[0m: name 'y' is not defined"
     ]
    }
   ],
   "source": [
    "uni_x, uni_y = make_univariate(y, 2)"
   ]
  },
  {
   "cell_type": "code",
   "execution_count": 142,
   "id": "f68e7c82-2eca-425d-bf9a-8d9a3280806d",
   "metadata": {},
   "outputs": [
    {
     "data": {
      "text/plain": [
       "SVR()"
      ]
     },
     "execution_count": 142,
     "metadata": {},
     "output_type": "execute_result"
    }
   ],
   "source": [
    "regr = SVR()\n",
    "regr.fit(uni_x, uni_y)"
   ]
  },
  {
   "cell_type": "code",
   "execution_count": 143,
   "id": "63f931fa-0177-419e-af45-87ba812393cf",
   "metadata": {},
   "outputs": [
    {
     "data": {
      "text/plain": [
       "1.9451999177355432"
      ]
     },
     "execution_count": 143,
     "metadata": {},
     "output_type": "execute_result"
    }
   ],
   "source": [
    "mean_squared_error(uni_y, regr.predict(uni_x))"
   ]
  },
  {
   "cell_type": "markdown",
   "id": "02810f34-96c1-4df1-85c2-9dfc6c5ab0ad",
   "metadata": {},
   "source": [
    "## ARIMA/SARIMAX"
   ]
  },
  {
   "cell_type": "code",
   "execution_count": 16,
   "id": "589c3078-8ad1-4d4a-ac10-7358a4797824",
   "metadata": {},
   "outputs": [],
   "source": [
    "from statsmodels.tsa.arima.model import ARIMA\n",
    "import pmdarima as pm"
   ]
  },
  {
   "cell_type": "code",
   "execution_count": 24,
   "id": "b7085fd0-9987-4e28-bd6a-45c40af95a1c",
   "metadata": {},
   "outputs": [
    {
     "name": "stderr",
     "output_type": "stream",
     "text": [
      "C:\\Users\\danen\\anaconda3\\envs\\streamlit\\lib\\site-packages\\statsmodels\\tsa\\base\\tsa_model.py:590: ValueWarning: An unsupported index was provided and will be ignored when e.g. forecasting.\n",
      "  warnings.warn('An unsupported index was provided and will be'\n",
      "C:\\Users\\danen\\anaconda3\\envs\\streamlit\\lib\\site-packages\\statsmodels\\tsa\\base\\tsa_model.py:590: ValueWarning: An unsupported index was provided and will be ignored when e.g. forecasting.\n",
      "  warnings.warn('An unsupported index was provided and will be'\n",
      "C:\\Users\\danen\\anaconda3\\envs\\streamlit\\lib\\site-packages\\statsmodels\\tsa\\base\\tsa_model.py:590: ValueWarning: An unsupported index was provided and will be ignored when e.g. forecasting.\n",
      "  warnings.warn('An unsupported index was provided and will be'\n"
     ]
    }
   ],
   "source": [
    "model=ARIMA(y,order=(1,1,1))\n",
    "model_fit=model.fit()"
   ]
  },
  {
   "cell_type": "code",
   "execution_count": 25,
   "id": "a028f8b0-2fd2-4779-a070-f618eb10067e",
   "metadata": {},
   "outputs": [
    {
     "data": {
      "text/plain": [
       "2.152651759365552"
      ]
     },
     "execution_count": 25,
     "metadata": {},
     "output_type": "execute_result"
    }
   ],
   "source": [
    "y_predict = model_fit.predict()\n",
    "mean_squared_error(y, y_predict)"
   ]
  },
  {
   "cell_type": "code",
   "execution_count": 37,
   "id": "7bcfdb98-4f66-4383-b8c1-154caf655109",
   "metadata": {},
   "outputs": [
    {
     "name": "stdout",
     "output_type": "stream",
     "text": [
      "Performing stepwise search to minimize aic\n",
      " ARIMA(1,0,1)(0,0,0)[0]             : AIC=2653.754, Time=0.12 sec\n",
      " ARIMA(0,0,0)(0,0,0)[0]             : AIC=4937.341, Time=0.01 sec\n",
      " ARIMA(1,0,0)(0,0,0)[0]             : AIC=2821.244, Time=0.03 sec\n",
      " ARIMA(0,0,1)(0,0,0)[0]             : AIC=4193.585, Time=0.05 sec\n",
      " ARIMA(2,0,1)(0,0,0)[0]             : AIC=2589.066, Time=0.29 sec\n",
      " ARIMA(2,0,0)(0,0,0)[0]             : AIC=2730.852, Time=0.02 sec\n",
      " ARIMA(3,0,1)(0,0,0)[0]             : AIC=2586.754, Time=0.42 sec\n",
      " ARIMA(3,0,0)(0,0,0)[0]             : AIC=inf, Time=0.05 sec\n",
      " ARIMA(3,0,2)(0,0,0)[0]             : AIC=inf, Time=0.68 sec\n",
      " ARIMA(2,0,2)(0,0,0)[0]             : AIC=2585.131, Time=0.47 sec\n",
      " ARIMA(1,0,2)(0,0,0)[0]             : AIC=2610.902, Time=0.28 sec\n",
      " ARIMA(2,0,3)(0,0,0)[0]             : AIC=inf, Time=0.61 sec\n",
      " ARIMA(1,0,3)(0,0,0)[0]             : AIC=2598.221, Time=0.37 sec\n",
      " ARIMA(3,0,3)(0,0,0)[0]             : AIC=2586.060, Time=0.72 sec\n",
      " ARIMA(2,0,2)(0,0,0)[0] intercept   : AIC=2577.925, Time=1.05 sec\n",
      " ARIMA(1,0,2)(0,0,0)[0] intercept   : AIC=2578.562, Time=0.42 sec\n",
      " ARIMA(2,0,1)(0,0,0)[0] intercept   : AIC=2578.857, Time=0.63 sec\n",
      " ARIMA(3,0,2)(0,0,0)[0] intercept   : AIC=2579.210, Time=1.02 sec\n",
      " ARIMA(2,0,3)(0,0,0)[0] intercept   : AIC=2579.863, Time=0.71 sec\n",
      " ARIMA(1,0,1)(0,0,0)[0] intercept   : AIC=2577.645, Time=0.22 sec\n",
      " ARIMA(0,0,1)(0,0,0)[0] intercept   : AIC=2617.168, Time=0.08 sec\n",
      " ARIMA(1,0,0)(0,0,0)[0] intercept   : AIC=2585.243, Time=0.08 sec\n",
      " ARIMA(0,0,0)(0,0,0)[0] intercept   : AIC=2726.021, Time=0.02 sec\n",
      " ARIMA(0,0,2)(0,0,0)[0] intercept   : AIC=2598.333, Time=0.15 sec\n",
      " ARIMA(2,0,0)(0,0,0)[0] intercept   : AIC=2580.536, Time=0.15 sec\n",
      "\n",
      "Best model:  ARIMA(1,0,1)(0,0,0)[0] intercept\n",
      "Total fit time: 8.658 seconds\n"
     ]
    },
    {
     "data": {
      "text/plain": [
       "2.566636811397232"
      ]
     },
     "execution_count": 37,
     "metadata": {},
     "output_type": "execute_result"
    }
   ],
   "source": [
    "#automodel ARIMA\n",
    "auto_model = pm.auto_arima(y, start_p=1, start_q=1,\n",
    "                      test='adf',       # use adftest to find optimal 'd'\n",
    "                      max_p=3, max_q=3, # maximum p and q\n",
    "                      m=1,              # frequency of series\n",
    "                      d=None,           # let model determine 'd'\n",
    "                      seasonal=False,   # No Seasonality\n",
    "                      start_P=0, \n",
    "                      D=0, \n",
    "                      trace=True,\n",
    "                      error_action='ignore',  \n",
    "                      suppress_warnings=True, \n",
    "                      stepwise=True)\n",
    "auto_model.fit(y)\n",
    "y_predict = auto_model.predict(len(y))\n",
    "mean_squared_error(y, y_predict)"
   ]
  },
  {
   "cell_type": "code",
   "execution_count": 40,
   "id": "43c8cf9e-4e5a-4326-91a2-20b85a98e3c3",
   "metadata": {},
   "outputs": [
    {
     "name": "stdout",
     "output_type": "stream",
     "text": [
      "Performing stepwise search to minimize aic\n",
      " ARIMA(1,0,1)(0,1,1)[24] intercept   : AIC=inf, Time=8.46 sec\n",
      " ARIMA(0,0,0)(0,1,0)[24] intercept   : AIC=2966.138, Time=0.09 sec\n",
      " ARIMA(1,0,0)(1,1,0)[24] intercept   : AIC=2737.560, Time=2.34 sec\n",
      " ARIMA(0,0,1)(0,1,1)[24] intercept   : AIC=inf, Time=6.98 sec\n",
      " ARIMA(0,0,0)(0,1,0)[24]             : AIC=2964.207, Time=0.07 sec\n",
      " ARIMA(1,0,0)(0,1,0)[24] intercept   : AIC=2903.646, Time=0.30 sec\n",
      " ARIMA(1,0,0)(2,1,0)[24] intercept   : AIC=2663.429, Time=14.12 sec\n",
      " ARIMA(1,0,0)(2,1,1)[24] intercept   : AIC=inf, Time=65.61 sec\n",
      " ARIMA(1,0,0)(1,1,1)[24] intercept   : AIC=inf, Time=8.36 sec\n",
      " ARIMA(0,0,0)(2,1,0)[24] intercept   : AIC=2736.694, Time=11.20 sec\n",
      " ARIMA(2,0,0)(2,1,0)[24] intercept   : AIC=2664.780, Time=15.82 sec\n",
      " ARIMA(1,0,1)(2,1,0)[24] intercept   : AIC=2664.159, Time=26.13 sec\n",
      " ARIMA(0,0,1)(2,1,0)[24] intercept   : AIC=2671.540, Time=15.80 sec\n",
      " ARIMA(2,0,1)(2,1,0)[24] intercept   : AIC=2662.790, Time=58.63 sec\n",
      " ARIMA(2,0,1)(1,1,0)[24] intercept   : AIC=2736.131, Time=7.26 sec\n",
      " ARIMA(2,0,1)(2,1,1)[24] intercept   : AIC=inf, Time=107.82 sec\n",
      " ARIMA(2,0,1)(1,1,1)[24] intercept   : AIC=inf, Time=13.96 sec\n",
      " ARIMA(3,0,1)(2,1,0)[24] intercept   : AIC=2663.486, Time=43.96 sec\n",
      " ARIMA(2,0,2)(2,1,0)[24] intercept   : AIC=2663.613, Time=78.74 sec\n",
      " ARIMA(1,0,2)(2,1,0)[24] intercept   : AIC=2661.727, Time=44.36 sec\n",
      " ARIMA(1,0,2)(1,1,0)[24] intercept   : AIC=2734.436, Time=6.02 sec\n",
      " ARIMA(1,0,2)(2,1,1)[24] intercept   : AIC=inf, Time=117.17 sec\n",
      " ARIMA(1,0,2)(1,1,1)[24] intercept   : AIC=inf, Time=14.07 sec\n",
      " ARIMA(0,0,2)(2,1,0)[24] intercept   : AIC=2668.467, Time=18.73 sec\n",
      " ARIMA(1,0,3)(2,1,0)[24] intercept   : AIC=2663.594, Time=42.48 sec\n",
      " ARIMA(0,0,3)(2,1,0)[24] intercept   : AIC=2667.226, Time=22.91 sec\n",
      " ARIMA(2,0,3)(2,1,0)[24] intercept   : AIC=inf, Time=120.85 sec\n",
      " ARIMA(1,0,2)(2,1,0)[24]             : AIC=2660.170, Time=8.28 sec\n",
      " ARIMA(1,0,2)(1,1,0)[24]             : AIC=2732.580, Time=1.59 sec\n",
      " ARIMA(1,0,2)(2,1,1)[24]             : AIC=inf, Time=91.76 sec\n",
      " ARIMA(1,0,2)(1,1,1)[24]             : AIC=inf, Time=12.34 sec\n",
      " ARIMA(0,0,2)(2,1,0)[24]             : AIC=2667.264, Time=3.79 sec\n",
      " ARIMA(1,0,1)(2,1,0)[24]             : AIC=2662.762, Time=6.11 sec\n",
      " ARIMA(2,0,2)(2,1,0)[24]             : AIC=2662.066, Time=15.21 sec\n",
      " ARIMA(1,0,3)(2,1,0)[24]             : AIC=2662.050, Time=9.10 sec\n",
      " ARIMA(0,0,1)(2,1,0)[24]             : AIC=2670.468, Time=3.18 sec\n",
      " ARIMA(0,0,3)(2,1,0)[24]             : AIC=2665.940, Time=3.78 sec\n",
      " ARIMA(2,0,1)(2,1,0)[24]             : AIC=2661.229, Time=11.49 sec\n",
      " ARIMA(2,0,3)(2,1,0)[24]             : AIC=inf, Time=62.73 sec\n",
      "\n",
      "Best model:  ARIMA(1,0,2)(2,1,0)[24]          \n",
      "Total fit time: 1101.782 seconds\n"
     ]
    },
    {
     "data": {
      "text/plain": [
       "2.514810146648041"
      ]
     },
     "execution_count": 40,
     "metadata": {},
     "output_type": "execute_result"
    }
   ],
   "source": [
    "#automodel SARIMAX\n",
    "auto_model = pm.auto_arima(y, start_p=1, start_q=1,\n",
    "                         test='adf',\n",
    "                         max_p=3, max_q=3, m=24,\n",
    "                         start_P=0, seasonal=True,\n",
    "                         d=None, D=1, trace=True,\n",
    "                         error_action='ignore',  \n",
    "                         suppress_warnings=True, \n",
    "                         stepwise=True)\n",
    "auto_model.fit(y)\n",
    "y_predict = auto_model.predict(len(y))\n",
    "mean_squared_error(y, y_predict)"
   ]
  },
  {
   "cell_type": "markdown",
   "id": "938365c8-4486-4ece-8a60-759796df5685",
   "metadata": {},
   "source": [
    "## DL"
   ]
  },
  {
   "cell_type": "code",
   "execution_count": 12,
   "id": "b0b70956-5a5b-4ad1-a066-dab0cc58e370",
   "metadata": {},
   "outputs": [],
   "source": [
    "import tensorflow as tf"
   ]
  },
  {
   "cell_type": "code",
   "execution_count": 43,
   "id": "2acd4bab-8c16-4a9c-89fe-0020c94a1bba",
   "metadata": {},
   "outputs": [
    {
     "data": {
      "text/plain": [
       "6"
      ]
     },
     "execution_count": 43,
     "metadata": {},
     "output_type": "execute_result"
    }
   ],
   "source": [
    "X.shape[1]"
   ]
  },
  {
   "cell_type": "code",
   "execution_count": 55,
   "id": "70fde04c-e173-41c7-aff3-3c9ab42ceaa6",
   "metadata": {},
   "outputs": [],
   "source": [
    "X = X.values"
   ]
  },
  {
   "cell_type": "code",
   "execution_count": 56,
   "id": "7824c0de-0ab7-40e4-8161-7619d2a033cf",
   "metadata": {},
   "outputs": [
    {
     "data": {
      "text/plain": [
       "(720, 6, 1)"
      ]
     },
     "execution_count": 56,
     "metadata": {},
     "output_type": "execute_result"
    }
   ],
   "source": [
    "x_train = X[:,:,np.newaxis]\n",
    "x_train.shape"
   ]
  },
  {
   "cell_type": "code",
   "execution_count": 61,
   "id": "30c0f7c4-ad54-449d-9ba3-1aacff4a1d5f",
   "metadata": {},
   "outputs": [],
   "source": [
    "#input\n",
    "hyperparams = {\n",
    "    'LSTM_1' : {\n",
    "        'units' : 20,\n",
    "    },\n",
    "    'Dense_2' : {\n",
    "        'units':10\n",
    "    },\n",
    "    'LSTM_3':{\n",
    "        'units':5\n",
    "    },\n",
    "    'Dense_4':{\n",
    "        'units':1\n",
    "    }\n",
    "}\n",
    "\n",
    "#model architecture\n",
    "model = tf.keras.Sequential()\n",
    "for layer, params in hyperparams.items():\n",
    "    units = params['units']\n",
    "    layer = layer.split('_')[0]\n",
    "    if layer=='LSTM':\n",
    "        model.add(tf.keras.layers.LSTM(units, return_sequences=True))\n",
    "    if layer=='Dense':\n",
    "        model.add(tf.keras.layers.Dense(units))"
   ]
  },
  {
   "cell_type": "code",
   "execution_count": 62,
   "id": "cf1398bc-cd13-4323-9184-131aa1ac6952",
   "metadata": {},
   "outputs": [],
   "source": [
    "model.compile(loss=tf.keras.losses.Huber(),\n",
    "              optimizer='adam',\n",
    "              metrics=[\"mae\"])"
   ]
  },
  {
   "cell_type": "code",
   "execution_count": 63,
   "id": "79b66f44-d9c0-4f80-84af-fd109a5d4e35",
   "metadata": {},
   "outputs": [
    {
     "name": "stdout",
     "output_type": "stream",
     "text": [
      "23/23 [==============================] - 4s 6ms/step - loss: 6.8445 - mae: 7.3445\n"
     ]
    },
    {
     "data": {
      "text/plain": [
       "<keras.callbacks.History at 0x2a1919e9670>"
      ]
     },
     "execution_count": 63,
     "metadata": {},
     "output_type": "execute_result"
    }
   ],
   "source": [
    "model.fit(x_train,y)"
   ]
  },
  {
   "cell_type": "code",
   "execution_count": 64,
   "id": "fef87902-4f10-45fc-a530-23746de53cf7",
   "metadata": {},
   "outputs": [
    {
     "name": "stdout",
     "output_type": "stream",
     "text": [
      "Model: \"sequential_13\"\n",
      "_________________________________________________________________\n",
      " Layer (type)                Output Shape              Param #   \n",
      "=================================================================\n",
      " lstm_12 (LSTM)              (None, 6, 20)             1760      \n",
      "                                                                 \n",
      " dense_10 (Dense)            (None, 6, 10)             210       \n",
      "                                                                 \n",
      " lstm_13 (LSTM)              (None, 6, 5)              320       \n",
      "                                                                 \n",
      " dense_11 (Dense)            (None, 6, 1)              6         \n",
      "                                                                 \n",
      "=================================================================\n",
      "Total params: 2,296\n",
      "Trainable params: 2,296\n",
      "Non-trainable params: 0\n",
      "_________________________________________________________________\n"
     ]
    }
   ],
   "source": [
    "model.summary()"
   ]
  },
  {
   "cell_type": "code",
   "execution_count": 41,
   "id": "ec196545-cae1-40d3-aa9f-6cbeaa4a77a6",
   "metadata": {},
   "outputs": [
    {
     "data": {
      "text/plain": [
       "(720, 6)"
      ]
     },
     "execution_count": 41,
     "metadata": {},
     "output_type": "execute_result"
    }
   ],
   "source": [
    "X.shape"
   ]
  },
  {
   "cell_type": "code",
   "execution_count": 6,
   "id": "051f884d-517f-489a-b5d9-c6589ba4dc0f",
   "metadata": {},
   "outputs": [],
   "source": [
    "from src.utils.data import Dataset\n",
    "from src.utils.feature_selection import feature_selection"
   ]
  },
  {
   "cell_type": "code",
   "execution_count": 21,
   "id": "bb355975-3482-410f-a7e0-57fbf58d384f",
   "metadata": {},
   "outputs": [],
   "source": [
    "variate = \"Univariate\"\n",
    "time_lag=5\n",
    "features=[]\n",
    "norm=False\n",
    "perc=0.8\n",
    "target = 'dl_avg'\n",
    "data = Dataset('user_input', target)\n",
    "data(variate, time_lag, features, norm, perc)"
   ]
  },
  {
   "cell_type": "code",
   "execution_count": 23,
   "id": "642f611d-14d7-40aa-8e5e-d1459c91b3db",
   "metadata": {},
   "outputs": [
    {
     "data": {
      "text/plain": [
       "(572, 5)"
      ]
     },
     "execution_count": 23,
     "metadata": {},
     "output_type": "execute_result"
    }
   ],
   "source": [
    "data.X_tr.shape"
   ]
  },
  {
   "cell_type": "code",
   "execution_count": 3,
   "id": "12e46d87-2d00-4c98-b171-214c2d227c3e",
   "metadata": {},
   "outputs": [],
   "source": [
    "top_threshold = 0.5\n",
    "bot_threshold = 0.5\n",
    "top = 5\n",
    "bot = 5\n",
    "automatic = False\n",
    "data = Dataset('user_input', 'dl_avg')"
   ]
  },
  {
   "cell_type": "code",
   "execution_count": 4,
   "id": "c66009c6-0758-428b-bfd6-7522488c7a60",
   "metadata": {},
   "outputs": [
    {
     "data": {
      "text/plain": [
       "['MS_Average PDCP Layer Active Cell Throughput DL(number)',\n",
       " 'MS_L.Traffic.ActiveUser.Max(number)',\n",
       " 'IRAT Redir Success Rate_DENOM_LTE(number)',\n",
       " 'IRAT Redir Success Rate_NOM_LTE(number)',\n",
       " 'MS_PI_L.Traffic.User.Max(SUM)(number)',\n",
       " 'MS_L.Traffic.User.DLData.Avg(number)']"
      ]
     },
     "execution_count": 4,
     "metadata": {},
     "output_type": "execute_result"
    }
   ],
   "source": [
    "feature_selection(data.df.corr(), target, top_threshold, bot_threshold, top, bot, automatic)"
   ]
  },
  {
   "cell_type": "code",
   "execution_count": 15,
   "id": "6bde0ea9-0a55-439f-99f7-1205f0847be1",
   "metadata": {},
   "outputs": [],
   "source": [
    "from src.models.model import Model"
   ]
  },
  {
   "cell_type": "code",
   "execution_count": 16,
   "id": "a2547eba-6239-4aef-82ca-5641d23cec46",
   "metadata": {},
   "outputs": [],
   "source": [
    "model = Model(\"RF\")"
   ]
  },
  {
   "cell_type": "code",
   "execution_count": 17,
   "id": "dfed1c63-a160-44cc-9b18-1a4a4c8b5e2a",
   "metadata": {},
   "outputs": [],
   "source": [
    "model.train(data.X_tr, data.y_tr)"
   ]
  },
  {
   "cell_type": "code",
   "execution_count": null,
   "id": "79f46b21-91aa-4e0d-b07b-3bf50f930894",
   "metadata": {},
   "outputs": [],
   "source": []
  }
 ],
 "metadata": {
  "kernelspec": {
   "display_name": "Python 3",
   "language": "python",
   "name": "python3"
  },
  "language_info": {
   "codemirror_mode": {
    "name": "ipython",
    "version": 3
   },
   "file_extension": ".py",
   "mimetype": "text/x-python",
   "name": "python",
   "nbconvert_exporter": "python",
   "pygments_lexer": "ipython3",
   "version": "3.9.7"
  },
  "widgets": {
   "application/vnd.jupyter.widget-state+json": {
    "state": {},
    "version_major": 2,
    "version_minor": 0
   }
  }
 },
 "nbformat": 4,
 "nbformat_minor": 5
}
